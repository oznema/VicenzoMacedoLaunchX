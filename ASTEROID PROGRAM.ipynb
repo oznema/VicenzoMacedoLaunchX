{
 "cells": [
  {
   "cell_type": "code",
   "execution_count": 8,
   "metadata": {},
   "outputs": [
    {
     "name": "stdout",
     "output_type": "stream",
     "text": [
      "ADVERTENCIA, ASTEROIDE A VELOCIDADES PELIGROSAS\n"
     ]
    }
   ],
   "source": [
    "ASTEROIDE=49\n",
    "if ASTEROIDE >= 25:\n",
    "    print(\"ADVERTENCIA, ASTEROIDE A VELOCIDADES PELIGROSAS\")\n",
    "else:\n",
    "    print(\"BONITO DÍA\")"
   ]
  },
  {
   "cell_type": "code",
   "execution_count": 10,
   "metadata": {},
   "outputs": [
    {
     "name": "stdout",
     "output_type": "stream",
     "text": [
      "NADA QUE VER AQUÍ\n"
     ]
    }
   ],
   "source": [
    "ASTEROIDE=19\n",
    "if ASTEROIDE > 20:\n",
    "    print(\"ESTRELLA FUGAZ EN EL CIELO\")\n",
    "elif ASTEROIDE == 20:\n",
    "    print(\"ESTRELLA FUGAZ EN EL CIELO\")\n",
    "else:\n",
    "    print(\"NADA QUE VER AQUÍ\")"
   ]
  },
  {
   "cell_type": "code",
   "execution_count": 11,
   "metadata": {},
   "outputs": [
    {
     "name": "stdout",
     "output_type": "stream",
     "text": [
      "ESTRELLA FUGAZ EN EL CIELO\n"
     ]
    }
   ],
   "source": [
    "velocidad_asteroide=25\n",
    "tamano_asteroide=40\n",
    "if velocidad_asteroide > 25 and tamano_asteroide > 25:\n",
    "    print(\"ALERTA, ASTEROIDE PELIGROSO EN CAMINO\")\n",
    "elif velocidad_asteroide >=20:\n",
    "    print(\"ESTRELLA FUGAZ EN EL CIELO\")\n",
    "elif tamano_asteroide < 25:\n",
    "    print(\"NADA QUE VER AQUÍ\")\n",
    "else:\n",
    "    print(\"NADA QUE VER AQUÍ\")   "
   ]
  }
 ],
 "metadata": {
  "interpreter": {
   "hash": "06ca1f5752c0cfd38cca4dabc31fff0666aa3458be907e94b1fb291310ec26c5"
  },
  "kernelspec": {
   "display_name": "Python 3.9.10 64-bit (windows store)",
   "language": "python",
   "name": "python3"
  },
  "language_info": {
   "codemirror_mode": {
    "name": "ipython",
    "version": 3
   },
   "file_extension": ".py",
   "mimetype": "text/x-python",
   "name": "python",
   "nbconvert_exporter": "python",
   "pygments_lexer": "ipython3",
   "version": "3.9.10"
  },
  "orig_nbformat": 4
 },
 "nbformat": 4,
 "nbformat_minor": 2
}
