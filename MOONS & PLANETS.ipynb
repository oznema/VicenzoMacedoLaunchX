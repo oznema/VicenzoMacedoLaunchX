{
 "cells": [
  {
   "cell_type": "code",
   "execution_count": 1,
   "metadata": {},
   "outputs": [],
   "source": [
    "planet_moons = {\n",
    "    'mercury':0,\n",
    "    'venus':0,\n",
    "    'earth':1,\n",
    "    'mars':2,\n",
    "    'jupiter':79,\n",
    "    'saturn':82,\n",
    "    'uranus':27,\n",
    "    'neptune':14,\n",
    "    'pluto':5,\n",
    "    'haumea':2,\n",
    "    'makemake':1,\n",
    "    'eris':1\n",
    "}"
   ]
  },
  {
   "cell_type": "code",
   "execution_count": 12,
   "metadata": {},
   "outputs": [],
   "source": [
    "moons = planet_moons.values()\n",
    "planets= len(planet_moons.keys())"
   ]
  },
  {
   "cell_type": "code",
   "execution_count": 14,
   "metadata": {},
   "outputs": [
    {
     "name": "stdout",
     "output_type": "stream",
     "text": [
      "214\n",
      "17.833333333333332\n"
     ]
    }
   ],
   "source": [
    "total_moons = 0\n",
    "for moon in moons:\n",
    "    total_moons = total_moons + moon\n",
    "print(total_moons)\n",
    "\n",
    "average = total_moons / planets\n",
    "print (average)"
   ]
  }
 ],
 "metadata": {
  "interpreter": {
   "hash": "06ca1f5752c0cfd38cca4dabc31fff0666aa3458be907e94b1fb291310ec26c5"
  },
  "kernelspec": {
   "display_name": "Python 3.9.10 64-bit (windows store)",
   "language": "python",
   "name": "python3"
  },
  "language_info": {
   "codemirror_mode": {
    "name": "ipython",
    "version": 3
   },
   "file_extension": ".py",
   "mimetype": "text/x-python",
   "name": "python",
   "nbconvert_exporter": "python",
   "pygments_lexer": "ipython3",
   "version": "3.9.10"
  },
  "orig_nbformat": 4
 },
 "nbformat": 4,
 "nbformat_minor": 2
}
